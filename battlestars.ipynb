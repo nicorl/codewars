{
 "cells": [
  {
   "cell_type": "code",
   "execution_count": 82,
   "metadata": {},
   "outputs": [],
   "source": [
    "def alphabet_war(battlefield):\n",
    "    x = list(battlefield)\n",
    "    if '#' not in x:\n",
    "        return battlefield.replace('[','').replace(']','')\n",
    "    if '#' in x:\n",
    "        c, cA, cC = [], [], []\n",
    "        for pos, char in enumerate(x):\n",
    "            if (char == '#'):\n",
    "                c.append(pos)\n",
    "            if (char == '['):\n",
    "                cA.append(pos)\n",
    "            if (char == ']'):\n",
    "                cC.append(pos)\n",
    "    return c, cA, cC, battlefield"
   ]
  },
  {
   "cell_type": "code",
   "execution_count": null,
   "metadata": {},
   "outputs": [],
   "source": [
    "def guarda()"
   ]
  },
  {
   "cell_type": "code",
   "execution_count": 117,
   "metadata": {},
   "outputs": [],
   "source": [
    "def parejas(c, cA, cC):\n",
    "    limite_corchetado = []\n",
    "    for i in range(0, len(cA)):\n",
    "        limite_corchetado.append([cA[i], cC[i]])\n",
    "    return limite_corchetado, c"
   ]
  },
  {
   "cell_type": "code",
   "execution_count": 170,
   "metadata": {},
   "outputs": [],
   "source": [
    "def follisquea(encorchs):\n",
    "    c = encorchs[-1]\n",
    "    for i in range(0,len(encorchs[0])):\n",
    "        inicio = encorchs[0][i][0]\n",
    "        final = encorchs[0][i][1]\n",
    "    print(final)\n",
    "    #print(\"la bomba cae en\", c[0])\n",
    "    #for i in range(0,len(encorchs[0])):\n",
    "    #    print(c, encorchs[0][i][0], encorchs[0][i][1])\n",
    "    #    if c[0] > encorchs[0][i][1] or c[0] < encorchs[0][i][1]:\n",
    "    #        print(\"estas fuera del rango\", encorchs[0][i][0], encorchs[0][i][1])\n",
    "    return \"OK\""
   ]
  },
  {
   "cell_type": "markdown",
   "metadata": {},
   "source": [
    "https://www.codewars.com/kata/59437bd7d8c9438fb5000004/train/python"
   ]
  },
  {
   "cell_type": "code",
   "execution_count": 114,
   "metadata": {},
   "outputs": [
    {
     "name": "stdout",
     "output_type": "stream",
     "text": [
      "([4], [0, 5, 9], [2, 8, 13], '[a]b#[cd][efg]')\n"
     ]
    }
   ],
   "source": [
    "print(alphabet_war('[a]b#[cd][efg]'))"
   ]
  },
  {
   "cell_type": "code",
   "execution_count": 118,
   "metadata": {},
   "outputs": [
    {
     "name": "stdout",
     "output_type": "stream",
     "text": [
      "([[0, 2], [5, 8], [9, 13]], [4])\n"
     ]
    }
   ],
   "source": [
    "print(parejas([4], [0, 5, 9], [2, 8, 13]))"
   ]
  },
  {
   "cell_type": "code",
   "execution_count": 171,
   "metadata": {},
   "outputs": [
    {
     "name": "stdout",
     "output_type": "stream",
     "text": [
      "13\n",
      "OK\n"
     ]
    }
   ],
   "source": [
    "print(follisquea(parejas([4], [0, 5, 9], [2, 8, 13])))"
   ]
  }
 ],
 "metadata": {
  "interpreter": {
   "hash": "1b0e4a18e1b0a3fdb8269870fd631cfb0faa1229bd3cf18701a50031cbeaad45"
  },
  "kernelspec": {
   "display_name": "Python 3.7.10 64-bit ('python37': conda)",
   "name": "python3"
  },
  "language_info": {
   "codemirror_mode": {
    "name": "ipython",
    "version": 3
   },
   "file_extension": ".py",
   "mimetype": "text/x-python",
   "name": "python",
   "nbconvert_exporter": "python",
   "pygments_lexer": "ipython3",
   "version": "3.7.10"
  },
  "orig_nbformat": 4
 },
 "nbformat": 4,
 "nbformat_minor": 2
}
